{
 "cells": [
  {
   "cell_type": "markdown",
   "metadata": {},
   "source": [
    "## Cálculo de longitud galáctica en ángulo horario de apuntamiento al cenit\n",
    "\n",
    "Autores: Michelle Mora (GH: https://github.com/michimora/) y Germán Chaparro"
   ]
  },
  {
   "cell_type": "code",
   "execution_count": 32,
   "metadata": {},
   "outputs": [],
   "source": [
    "import numpy as np\n",
    "from astropy import units as u\n",
    "from astropy.coordinates import SkyCoord\n",
    "from astropy.coordinates import EarthLocation\n",
    "from astropy.time import Time\n",
    "from astropy.time import TimeDelta"
   ]
  },
  {
   "cell_type": "code",
   "execution_count": 33,
   "metadata": {
    "collapsed": true
   },
   "outputs": [],
   "source": [
    "import warnings\n",
    "warnings.filterwarnings(\"ignore\")"
   ]
  },
  {
   "cell_type": "code",
   "execution_count": 61,
   "metadata": {
    "collapsed": true
   },
   "outputs": [],
   "source": [
    "def GalCoor_Cenit(Earthloc,time):\n",
    "    '''Takes the Antenna location and the times for observations.\n",
    "       Returns galactic coordinates for the zenith'''\n",
    "    \n",
    "        \n",
    "    altaz = SkyCoord(alt=90*u.deg, az =0*u.rad, obstime=time, frame='altaz', location=Earthloc) #Cenit AltAz\n",
    "        \n",
    "    galcoords=altaz.galactic #Transform to galactic and save\n",
    "    \n",
    "    return galcoords"
   ]
  },
  {
   "cell_type": "code",
   "execution_count": 62,
   "metadata": {},
   "outputs": [
    {
     "data": {
      "text/plain": [
       "<Time object: scale='utc' format='datetime' value=2022-03-02 18:34:32.466410>"
      ]
     },
     "execution_count": 62,
     "metadata": {},
     "output_type": "execute_result"
    }
   ],
   "source": [
    "# se selecciona la ubicación del telescopio a través de las coordenadas\n",
    "observing_location = EarthLocation(lat='4.7110d', lon='-74.0721d')  # Bogotá\n",
    "# se selecciona el tiempo de la observación\n",
    "# puede ser fijo o puede ser el tiempo que corresponde al momento de la medición\n",
    "#observing_time = Time('2015-12-21 1:00') # debe ser en UTC\n",
    "observing_time = Time.now()\n",
    "observing_time"
   ]
  },
  {
   "cell_type": "code",
   "execution_count": 63,
   "metadata": {},
   "outputs": [
    {
     "name": "stdout",
     "output_type": "stream",
     "text": [
      "CPU times: user 100 ms, sys: 18.6 ms, total: 119 ms\n",
      "Wall time: 20.4 s\n"
     ]
    }
   ],
   "source": [
    "%%time\n",
    "g = GalCoor_Cenit(observing_location,observing_time)"
   ]
  },
  {
   "cell_type": "code",
   "execution_count": 51,
   "metadata": {},
   "outputs": [
    {
     "data": {
      "text/latex": [
       "$4^\\mathrm{h}56^\\mathrm{m}41.7944^\\mathrm{s}$"
      ],
      "text/plain": [
       "<Longitude 4.94494289 hourangle>"
      ]
     },
     "execution_count": 51,
     "metadata": {},
     "output_type": "execute_result"
    }
   ],
   "source": [
    "g[0].l.to('hourangle') # da la longitud galáctica en ángulo horario (se busca que esté entre 6-18h)"
   ]
  }
 ],
 "metadata": {
  "kernelspec": {
   "display_name": "Python 3",
   "language": "python",
   "name": "python3"
  },
  "language_info": {
   "codemirror_mode": {
    "name": "ipython",
    "version": 3
   },
   "file_extension": ".py",
   "mimetype": "text/x-python",
   "name": "python",
   "nbconvert_exporter": "python",
   "pygments_lexer": "ipython3",
   "version": "3.5.6"
  }
 },
 "nbformat": 4,
 "nbformat_minor": 2
}
